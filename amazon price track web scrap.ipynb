{
 "cells": [
  {
   "cell_type": "code",
   "execution_count": 27,
   "metadata": {},
   "outputs": [],
   "source": [
    "import requests\n",
    "from bs4 import BeautifulSoup\n",
    "import smtplib\n",
    "import time"
   ]
  },
  {
   "cell_type": "code",
   "execution_count": null,
   "metadata": {},
   "outputs": [],
   "source": [
    "def checkprice():\n",
    "    url='https://www.amazon.in/Nikon-Nikkor-18-55mm-3-5-5-6G-Memory/dp/B07GWKDLGT/ref=sr_1_1?crid=3F1EQX20QNFMR&dchild=1&keywords=nicon5600+dslr+camera&qid=1597331580&s=electronics&sprefix=niko%2Celectronics%2C347&sr=1-1'\n",
    "    headers = {'User-Agent' : 'Mozilla/5.0 (Windows NT 6.3; Win64; x64) AppleWebKit/537.36 (KHTML, like Gecko) Chrome/80.0.3987.162 Safari/537.36'}\n",
    "    page = requests.get(url, headers = headers)\n",
    "    soup = BeautifulSoup(page.content, 'html.parser')\n",
    "    title=soup.find(id=\"productTitle\").get_text()\n",
    "    print(title.strip())\n",
    "    price=soup.find(id=\"priceblock_ourprice\").get_text()\n",
    "    converted_price = float(price[2:8].replace(',',''))\n",
    "    print(converted_price)\n",
    "    if(converted_price>29998):\n",
    "        send_mail()\n",
    "    \n",
    "def send_mail():\n",
    "    server=smtplib.SMTP('smtp.gmail.com',587)\n",
    "    server.ehlo()\n",
    "    server.starttls()\n",
    "    server.ehlo()\n",
    "    \n",
    "    server.login('sakshialways360@gmail.com','tlqstyvjldanxyli')\n",
    "    subject='Price fell down'\n",
    "    body='check the amazon link:     https://www.amazon.in/Nikon-Nikkor-18-55mm-3-5-5-6G-Memory/dp/B07GWKDLGT/ref=sr_1_1?crid=3F1EQX20QNFMR&dchild=1&keywords=nicon5600+dslr+camera&qid=1597331580&s=electronics&sprefix=niko%2Celectronics%2C347&sr=1-1'\n",
    "    msg=f\"Subject: {subject}\\n\\n\\n{body}\"\n",
    "    server.sendmail('sakshialways360@gmail.com','sakshiagarwal360@gmail.com',msg)\n",
    "    print(\"mail sent\")\n",
    "    server.quit()\n",
    "    \n",
    "while(True): \n",
    "    checkprice()\n",
    "    time.sleep(60000*3600)\n",
    "    \n",
    "    \n"
   ]
  },
  {
   "cell_type": "code",
   "execution_count": null,
   "metadata": {},
   "outputs": [],
   "source": []
  }
 ],
 "metadata": {
  "kernelspec": {
   "display_name": "Python 3",
   "language": "python",
   "name": "python3"
  },
  "language_info": {
   "codemirror_mode": {
    "name": "ipython",
    "version": 3
   },
   "file_extension": ".py",
   "mimetype": "text/x-python",
   "name": "python",
   "nbconvert_exporter": "python",
   "pygments_lexer": "ipython3",
   "version": "3.7.6"
  }
 },
 "nbformat": 4,
 "nbformat_minor": 4
}
